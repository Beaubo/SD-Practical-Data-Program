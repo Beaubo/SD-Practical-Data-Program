{
 "cells": [
  {
   "cell_type": "markdown",
   "metadata": {},
   "source": [
    "Name: Beau Bressler"
   ]
  },
  {
   "cell_type": "code",
   "execution_count": 5,
   "metadata": {
    "collapsed": true
   },
   "outputs": [],
   "source": [
    "#Setup\n",
    "\n",
    "%matplotlib inline\n",
    "import numpy as np\n",
    "import pandas as pd\n",
    "import matplotlib.pyplot as plt\n",
    "pd.set_option('display.max_columns', 100)"
   ]
  },
  {
   "cell_type": "code",
   "execution_count": 6,
   "metadata": {
    "collapsed": false
   },
   "outputs": [],
   "source": [
    "#B. Read data from Basic Pandas csv file\n",
    "\n",
    "data = pd.read_csv(\"https://raw.githubusercontent.com/apawlik/2014-04-09-GARNET/gh-pages/lessons/garnet/pandas/data/weather_year.csv\")"
   ]
  },
  {
   "cell_type": "code",
   "execution_count": 11,
   "metadata": {
    "collapsed": false
   },
   "outputs": [
    {
     "name": "stdout",
     "output_type": "stream",
     "text": [
      "<class 'pandas.core.frame.DataFrame'>\n",
      "RangeIndex: 366 entries, 0 to 365\n",
      "Data columns (total 23 columns):\n",
      "EDT                           366 non-null object\n",
      "Max TemperatureF              366 non-null int64\n",
      "Mean TemperatureF             366 non-null int64\n",
      "Min TemperatureF              366 non-null int64\n",
      "Max Dew PointF                366 non-null int64\n",
      "MeanDew PointF                366 non-null int64\n",
      "Min DewpointF                 366 non-null int64\n",
      "Max Humidity                  366 non-null int64\n",
      " Mean Humidity                366 non-null int64\n",
      " Min Humidity                 366 non-null int64\n",
      " Max Sea Level PressureIn     366 non-null float64\n",
      " Mean Sea Level PressureIn    366 non-null float64\n",
      " Min Sea Level PressureIn     366 non-null float64\n",
      " Max VisibilityMiles          366 non-null int64\n",
      " Mean VisibilityMiles         366 non-null int64\n",
      " Min VisibilityMiles          366 non-null int64\n",
      " Max Wind SpeedMPH            366 non-null int64\n",
      " Mean Wind SpeedMPH           366 non-null int64\n",
      " Max Gust SpeedMPH            365 non-null float64\n",
      "PrecipitationIn               366 non-null object\n",
      " CloudCover                   366 non-null int64\n",
      " Events                       162 non-null object\n",
      " WindDirDegrees               366 non-null int64\n",
      "dtypes: float64(4), int64(16), object(3)\n",
      "memory usage: 65.8+ KB\n"
     ]
    }
   ],
   "source": [
    "#Look at structure of data frame, and variable names\n",
    "data.info()"
   ]
  },
  {
   "cell_type": "code",
   "execution_count": 10,
   "metadata": {
    "collapsed": false
   },
   "outputs": [
    {
     "data": {
      "text/plain": [
       "9.9455908097574266"
      ]
     },
     "execution_count": 10,
     "metadata": {},
     "output_type": "execute_result"
    }
   ],
   "source": [
    "#C. Compute standard deviation of mean humidity\n",
    "\n",
    "data[' Mean Humidity'].std()"
   ]
  },
  {
   "cell_type": "code",
   "execution_count": 13,
   "metadata": {
    "collapsed": false
   },
   "outputs": [
    {
     "data": {
      "text/plain": [
       "6.057377049180328"
      ]
     },
     "execution_count": 13,
     "metadata": {},
     "output_type": "execute_result"
    }
   ],
   "source": [
    "#D. Compute the average mean wind speed in miles per hour\n",
    "\n",
    "data[' Mean Wind SpeedMPH'].mean()"
   ]
  },
  {
   "cell_type": "code",
   "execution_count": 17,
   "metadata": {
    "collapsed": false
   },
   "outputs": [
    {
     "data": {
      "text/plain": [
       "(array([ 104.,   53.,   33.,   32.,    0.,   40.,   29.,   22.,   20.,   33.]),\n",
       " array([ 0. ,  0.8,  1.6,  2.4,  3.2,  4. ,  4.8,  5.6,  6.4,  7.2,  8. ]),\n",
       " <a list of 10 Patch objects>)"
      ]
     },
     "execution_count": 17,
     "metadata": {},
     "output_type": "execute_result"
    },
    {
     "data": {
      "image/png": "[encoded data removed]",
      "text/plain": [
       "<matplotlib.figure.Figure at 0x8face10>"
      ]
     },
     "metadata": {},
     "output_type": "display_data"
    }
   ],
   "source": [
    "#E. Create a plot \n",
    "#Histogram showing the occurance of CloudCover values\n",
    "\n",
    "plt.hist(data[' CloudCover'])\n"
   ]
  },
  {
   "cell_type": "code",
   "execution_count": 23,
   "metadata": {
    "collapsed": false
   },
   "outputs": [
    {
     "data": {
      "text/plain": [
       "20"
      ]
     },
     "execution_count": 23,
     "metadata": {},
     "output_type": "execute_result"
    }
   ],
   "source": [
    "#F. Find lowest Min TemperatureF in the month of november \n",
    "\n",
    "#Convert EDT to datetime variable type, and set it as index\n",
    "data.EDT = pd.to_datetime(data.EDT)\n",
    "data.index = data.EDT\n",
    "\n",
    "#Create data frame which only includes data points in November\n",
    "november = data['2012-11-01' :'2012-12-01']\n",
    "#calculate lowest Min TemperatureF in November\n",
    "np.min(november['Min TemperatureF'])"
   ]
  },
  {
   "cell_type": "code",
   "execution_count": null,
   "metadata": {
    "collapsed": true
   },
   "outputs": [],
   "source": []
  }
 ],
 "metadata": {
  "anaconda-cloud": {},
  "kernelspec": {
   "display_name": "Python [conda env:SD Data Library]",
   "language": "python",
   "name": "conda-env-SD Data Library-py"
  },
  "language_info": {
   "codemirror_mode": {
    "name": "ipython",
    "version": 2
   },
   "file_extension": ".py",
   "mimetype": "text/x-python",
   "name": "python",
   "nbconvert_exporter": "python",
   "pygments_lexer": "ipython2",
   "version": "2.7.12"
  }
 },
 "nbformat": 4,
 "nbformat_minor": 1
}
